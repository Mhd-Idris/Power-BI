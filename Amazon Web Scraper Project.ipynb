{
 "cells": [
  {
   "cell_type": "code",
   "execution_count": 1,
   "id": "ea65a30b-df90-46de-bdbf-2ca73e0e3a21",
   "metadata": {},
   "outputs": [],
   "source": [
    "# Import libraries\n",
    "\n",
    "from bs4 import BeautifulSoup\n",
    "import requests\n",
    "import smtplib\n",
    "import time\n",
    "import datetime"
   ]
  },
  {
   "cell_type": "code",
   "execution_count": 75,
   "id": "edba782e-22cc-41cb-ab0e-704fd54c2c69",
   "metadata": {},
   "outputs": [
    {
     "name": "stdout",
     "output_type": "stream",
     "text": [
      "Got Data Funny Business Data Analyst T-Shirt\n",
      "$15.99\n"
     ]
    }
   ],
   "source": [
    "# Connect to website\n",
    "\n",
    "URL = 'https://www.amazon.com/Funny-Data-Systems-Business-Analyst/dp/B07FNW9FGJ/ref=sr_1_3?sr=8-3&customId=B0752XJYNL&customizationToken=MC_Assembly_1%23B0752XJYNL'\n",
    "\n",
    "headers = {\"User-Agent\": \"Mozilla/5.0 (Windows NT 10.0; Win64; x64) AppleWebKit/537.36 (KHTML, like Gecko) Chrome/133.0.0.0 Safari/537.3\", \"Accept-Encoding\":\"gzip, deflate\", \"Accept\":\"text/html,application/xhtml+xml,application/xml;q=0.9,*/*;q=0.8\", \"DNT\":\"1\",\"Connection\":\"close\", \"Upgrade-Insecure-Requests\":\"1\"}\n",
    "\n",
    "page = requests.get(URL, headers = headers)\n",
    "\n",
    "soup1 = BeautifulSoup(page.content, \"html.parser\")\n",
    "\n",
    "soup2 = BeautifulSoup(soup1.prettify(), \"html.parser\")\n",
    "\n",
    "# Ambil Nama Produk\n",
    "title = soup2.find(id='productTitle').get_text().strip()\n",
    "\n",
    "# Ambil Harga Produk (menghilangkan spasi ekstra)\n",
    "price_symbol = soup2.find('span', {'class': 'a-price-symbol'})  # Simbol dolar ($)\n",
    "price_whole = soup2.find('span', {'class': 'a-price-whole'})    # Angka utuh (15)\n",
    "price_fraction = soup2.find('span', {'class': 'a-price-fraction'})  # Desimal (.99)\n",
    "\n",
    "# Pastikan semua elemen ditemukan sebelum menggabungkan harga\n",
    "if price_symbol and price_whole and price_fraction:\n",
    "    price = f\"{price_symbol.get_text().strip()}{price_whole.get_text().strip()}{price_fraction.get_text().strip()}\"\n",
    "    \n",
    "    # Hapus spasi tambahan jika masih ada\n",
    "    price = price.replace(\"\\n\", \"\").replace(\" \", \"\")\n",
    "else:\n",
    "    price = \"Harga tidak ditemukan\"\n",
    "\n",
    "print(title)\n",
    "print(price)\n",
    "\n",
    "\n"
   ]
  },
  {
   "cell_type": "code",
   "execution_count": 77,
   "id": "423ccfde-5144-4aee-884b-54f9d4692756",
   "metadata": {},
   "outputs": [
    {
     "name": "stdout",
     "output_type": "stream",
     "text": [
      "Got Data Funny Business Data Analyst T-Shirt\n",
      "15.99\n"
     ]
    }
   ],
   "source": [
    "price = price.strip()[1:]\n",
    "title = title.strip()\n",
    "\n",
    "print(title)\n",
    "print(price)"
   ]
  },
  {
   "cell_type": "code",
   "execution_count": 89,
   "id": "ae607748-5170-4383-9ccb-7fbccb925a4e",
   "metadata": {},
   "outputs": [
    {
     "name": "stdout",
     "output_type": "stream",
     "text": [
      "2025-02-09\n"
     ]
    }
   ],
   "source": [
    "import datetime\n",
    "\n",
    "today = datetime.date.today()\n",
    "\n",
    "print(today)"
   ]
  },
  {
   "cell_type": "code",
   "execution_count": 91,
   "id": "b1da60ec-2cd0-43d4-8550-033bddc7d937",
   "metadata": {},
   "outputs": [],
   "source": [
    "import csv\n",
    "\n",
    "header = ['Title', 'Price', 'Date']\n",
    "data   = [title, price, today]\n",
    "\n",
    "type(data)\n",
    "\n",
    "with open ('AmazonWebScraperDataset.csv', 'w', newline= '', encoding = 'UTF8') as f:\n",
    "    writer = csv.writer(f) \n",
    "    writer.writerow(header)\n",
    "    writer.writerow(data)\n"
   ]
  },
  {
   "cell_type": "code",
   "execution_count": 107,
   "id": "6e37ce23-2080-4c9d-b21b-19548497edc6",
   "metadata": {},
   "outputs": [
    {
     "name": "stdout",
     "output_type": "stream",
     "text": [
      "                                          Title  Price        Date\n",
      "0  Got Data Funny Business Data Analyst T-Shirt  15.99  2025-02-09\n",
      "1  Got Data Funny Business Data Analyst T-Shirt  15.99  2025-02-09\n",
      "2  Got Data Funny Business Data Analyst T-Shirt  15.99  2025-02-09\n",
      "3  Got Data Funny Business Data Analyst T-Shirt  15.99  2025-02-09\n",
      "4  Got Data Funny Business Data Analyst T-Shirt  15.99  2025-02-09\n"
     ]
    }
   ],
   "source": [
    "import pandas as pd\n",
    "\n",
    "df = pd.read_csv(r\"C:\\Users\\HP\\AmazonWebScraperDataset.csv\")\n",
    "print(df)\n"
   ]
  },
  {
   "cell_type": "code",
   "execution_count": 105,
   "id": "bb9461a7-d67c-4858-84fb-b25a2e1d97fb",
   "metadata": {},
   "outputs": [],
   "source": [
    "# Now we are appending data to the csv\n",
    "\n",
    "with open ('AmazonWebScraperDataset.csv', 'a+', newline= '', encoding = 'UTF8') as f:\n",
    "    writer = csv.writer(f) \n",
    "    writer.writerow(data)"
   ]
  },
  {
   "cell_type": "code",
   "execution_count": 113,
   "id": "ac1fae2f-db60-42bc-9062-3286ac11fd09",
   "metadata": {},
   "outputs": [],
   "source": [
    "def check_price():\n",
    "    URL = 'https://www.amazon.com/Funny-Data-Systems-Business-Analyst/dp/B07FNW9FGJ/ref=sr_1_3?sr=8-3&customId=B0752XJYNL&customizationToken=MC_Assembly_1%23B0752XJYNL'\n",
    "\n",
    "    headers = {\"User-Agent\": \"Mozilla/5.0 (Windows NT 10.0; Win64; x64) AppleWebKit/537.36 (KHTML, like Gecko) Chrome/133.0.0.0 Safari/537.3\", \"Accept-Encoding\":\"gzip, deflate\", \"Accept\":\"text/html,application/xhtml+xml,application/xml;q=0.9,*/*;q=0.8\", \"DNT\":\"1\",\"Connection\":\"close\", \"Upgrade-Insecure-Requests\":\"1\"}\n",
    "\n",
    "    page = requests.get(URL, headers = headers)\n",
    "\n",
    "    soup1 = BeautifulSoup(page.content, \"html.parser\")\n",
    "\n",
    "    soup2 = BeautifulSoup(soup1.prettify(), \"html.parser\")\n",
    "\n",
    "    # Ambil Nama Produk\n",
    "    title = soup2.find(id='productTitle').get_text().strip()\n",
    "\n",
    "    # Ambil Harga Produk (menghilangkan spasi ekstra)\n",
    "    price_symbol = soup2.find('span', {'class': 'a-price-symbol'})  # Simbol dolar ($)\n",
    "    price_whole = soup2.find('span', {'class': 'a-price-whole'})    # Angka utuh (15)\n",
    "    price_fraction = soup2.find('span', {'class': 'a-price-fraction'})  # Desimal (.99)\n",
    "\n",
    "    # Pastikan semua elemen ditemukan sebelum menggabungkan harga\n",
    "    if price_symbol and price_whole and price_fraction:\n",
    "        price = f\"{price_symbol.get_text().strip()}{price_whole.get_text().strip()}{price_fraction.get_text().strip()}\"\n",
    "    \n",
    "    # Hapus spasi tambahan jika masih ada\n",
    "    price = price.replace(\"\\n\", \"\").replace(\" \", \"\")\n",
    "\n",
    "    price = price.strip()[1:]\n",
    "    title = title.strip()\n",
    "\n",
    "    import datetime\n",
    "    today = datetime.date.today()\n",
    "\n",
    "    import csv\n",
    "\n",
    "    header = ['Title', 'Price', 'Date']\n",
    "    data   = [title, price, today]\n",
    "\n",
    "    with open ('AmazonWebScraperDataset.csv', 'a+', newline= '', encoding = 'UTF8') as f:\n",
    "        writer = csv.writer(f) \n",
    "        writer.writerow(data)\n",
    "\n",
    "    # Kirim email jika harga barang berada dalam ketentuan\n",
    "    #if(price < 14)\n",
    "    #    send_mail()"
   ]
  },
  {
   "cell_type": "code",
   "execution_count": null,
   "id": "d4e60905-a436-4920-ba7e-a577432c0b26",
   "metadata": {},
   "outputs": [],
   "source": [
    "while(True):\n",
    "    check_price()\n",
    "    time.sleep(86400) #For a day by sec"
   ]
  },
  {
   "cell_type": "code",
   "execution_count": 117,
   "id": "95a47963-ed76-473e-96e3-ed043eeced26",
   "metadata": {},
   "outputs": [
    {
     "name": "stdout",
     "output_type": "stream",
     "text": [
      "                                          Title  Price        Date\n",
      "0  Got Data Funny Business Data Analyst T-Shirt  15.99  2025-02-09\n",
      "1  Got Data Funny Business Data Analyst T-Shirt  15.99  2025-02-09\n",
      "2  Got Data Funny Business Data Analyst T-Shirt  15.99  2025-02-09\n",
      "3  Got Data Funny Business Data Analyst T-Shirt  15.99  2025-02-09\n",
      "4  Got Data Funny Business Data Analyst T-Shirt  15.99  2025-02-09\n",
      "5  Got Data Funny Business Data Analyst T-Shirt  15.99  2025-02-09\n"
     ]
    }
   ],
   "source": [
    "import pandas as pd\n",
    "\n",
    "df = pd.read_csv(r\"C:\\Users\\HP\\AmazonWebScraperDataset.csv\")\n",
    "print(df)"
   ]
  },
  {
   "cell_type": "code",
   "execution_count": null,
   "id": "254e27c7-6458-47bb-a643-1ff55ab47bdf",
   "metadata": {},
   "outputs": [],
   "source": [
    "# Code for sending email automaticly using python\n",
    "def send_mail():\n",
    "    server = smtplib.SMTP_SSL('smtp.gmail.com', 465)\n",
    "    server.ehlo()\n",
    "    #server.starttls()\n",
    "    server.ehlo()\n",
    "    server.login('idrisnol.01@gmail.com', 'Password')\n",
    "\n",
    "    subject = \"The Shirt you want is below $15! Now is your chance to buy!\"\n",
    "    body = \"Alex, This is the moment we have been waiting for. Now is your chance to pick up the shirt of your dreams. Don't mess it.\n",
    "\n",
    "    msg = f\"Subject: {subject}\\n\\n{body}\"\n",
    "\n",
    "    server.sendmail(\n",
    "        'idrisnol.01@gmail.com',\n",
    "        msg\n",
    "    )\n",
    "    "
   ]
  }
 ],
 "metadata": {
  "kernelspec": {
   "display_name": "Python 3 (base)",
   "language": "python",
   "name": "base"
  },
  "language_info": {
   "codemirror_mode": {
    "name": "ipython",
    "version": 3
   },
   "file_extension": ".py",
   "mimetype": "text/x-python",
   "name": "python",
   "nbconvert_exporter": "python",
   "pygments_lexer": "ipython3",
   "version": "3.12.7"
  }
 },
 "nbformat": 4,
 "nbformat_minor": 5
}
